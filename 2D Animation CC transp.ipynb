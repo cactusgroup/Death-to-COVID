{
 "cells": [
  {
   "cell_type": "code",
   "execution_count": 1,
   "metadata": {
    "scrolled": true
   },
   "outputs": [],
   "source": [
    "# T2D Animations C"
   ]
  },
  {
   "cell_type": "code",
   "execution_count": 2,
   "metadata": {
    "scrolled": true
   },
   "outputs": [],
   "source": [
    "# import libraries \n",
    "\n",
    "import sys\n",
    "import numpy as np\n",
    "import random\n",
    "import matplotlib.pyplot as plt\n",
    "import matplotlib.colors \n",
    "from matplotlib import cm\n",
    "from matplotlib.colors import ListedColormap, LinearSegmentedColormap,BoundaryNorm \n",
    "import matplotlib.animation as animation\n",
    "import copy\n"
   ]
  },
  {
   "cell_type": "code",
   "execution_count": 3,
   "metadata": {
    "scrolled": false
   },
   "outputs": [],
   "source": [
    "# Set up the system\n",
    "\n",
    "nC  = 16     # number of cells/dimension\n",
    "nC2 = nC**2        # number of cells\n",
    "\n",
    "nV  = 16   # number of cars\n",
    "assert (nV <= nC2)\n",
    "\n",
    "Den = nV/(nC2)\n",
    "\n",
    "pVu = 0.5\n",
    "assert ((0. < pVu ) and (pVu <= 1.))\n",
    "pVr = 1- pVu\n",
    "\n",
    "nVu = int(pVu * nV)\n",
    "nVr = nV - pVu\n",
    "\n",
    "nF = 128              # number of frames\n",
    "updateInterval  = 200 # update interval"
   ]
  },
  {
   "cell_type": "code",
   "execution_count": 4,
   "metadata": {},
   "outputs": [],
   "source": [
    "# put the cars on the grid\n",
    "\n",
    "def setUpGrid(nC,nV,nVu):\n",
    "    \n",
    "    nC2 = nC**2\n",
    "    Grid = np.zeros(nC2)\n",
    "\n",
    "    # set up a list of empty cells\n",
    "\n",
    "    Empty = []\n",
    "    Full = []\n",
    "    nEmpty = nC2\n",
    "\n",
    "    for n in range(nC2):\n",
    "        Empty.append(n)\n",
    "\n",
    "    for n in range(nV):\n",
    "        j = random.randrange(nEmpty)\n",
    "        Full.append(Empty.pop(j))\n",
    "        nEmpty -= 1\n",
    "\n",
    "    for n in range(nVu):\n",
    "        Grid[Full[n]] = -1\n",
    "    for n in range(nVu,nV):\n",
    "        Grid[Full[n]] = 1\n",
    "    \n",
    "    Grid = Grid.reshape((nC,nC))\n",
    "    return (Grid)"
   ]
  },
  {
   "cell_type": "code",
   "execution_count": 5,
   "metadata": {
    "scrolled": true
   },
   "outputs": [],
   "source": [
    "# def Move(oldGrid,nC,t):\n",
    "    \n",
    "#     newGrid = oldGrid.copy()\n",
    "#     mU = 0\n",
    "#     mR = 0\n",
    "#     for j in range(nC):\n",
    "#         for i in range(nC):\n",
    "#             newGrid[i,j] = oldGrid[(i-1)%nC,(j-1)%nC]\n",
    "                \n",
    "#     return (newGrid,mU,mR)"
   ]
  },
  {
   "cell_type": "code",
   "execution_count": 6,
   "metadata": {
    "scrolled": true
   },
   "outputs": [],
   "source": [
    "def Move(oldGrid,nC,t):\n",
    "    \n",
    "    newGrid = oldGrid.copy()\n",
    "    mU = 0\n",
    "    mR = 0\n",
    "    for j in range(nC):\n",
    "        for i in range(nC):\n",
    "            if ((oldGrid[i,j] == 1) and ((t%2) == 0) and (oldGrid[(i-1)%nC,j] == 0)):\n",
    "                    newGrid[i,j] = 0                     # move up\n",
    "                    newGrid[(i-1)%nC,j] = 1\n",
    "                    mU += 1\n",
    "            elif ((oldGrid[i,j] == -1) and ((t%2) == 1) and (oldGrid[i,(j+1)%nC] == 0)):\n",
    "                    newGrid[i,j] = 0                     # move right\n",
    "                    newGrid[i,(j+1)%nC] = -1\n",
    "                    mR += 1\n",
    "                \n",
    "    return (newGrid,mU,mR)"
   ]
  },
  {
   "cell_type": "code",
   "execution_count": 7,
   "metadata": {},
   "outputs": [
    {
     "name": "stdout",
     "output_type": "stream",
     "text": [
      "[[ 1.  0.  0.  0.  0.  0.  0.  0.  0.  0.  0.  0.  0.  0.  0.  0.]\n",
      " [ 0.  0.  0.  0.  0.  0.  0.  0.  0.  0.  0.  0.  0.  0.  0.  0.]\n",
      " [ 0.  0.  0.  0.  0.  0.  0.  0.  0.  0.  0.  0.  0.  0.  0.  0.]\n",
      " [ 0.  0.  0.  0.  0.  0.  0.  0.  0.  0.  0.  0.  0.  0.  0.  0.]\n",
      " [ 0.  0.  0.  0.  0. -1.  0.  0.  0.  0.  0.  0.  0.  0. -1.  0.]\n",
      " [ 0.  0.  0.  0.  1.  0.  0.  0.  0.  0.  0.  0.  0.  0.  0.  0.]\n",
      " [ 0.  0.  0.  0.  0.  0.  0.  0.  0.  0.  0.  0.  0.  0.  0.  0.]\n",
      " [ 0.  0.  0.  0.  0.  1.  0.  0.  0.  0.  0.  0.  0.  0.  0.  0.]\n",
      " [-1.  0.  0.  0.  0.  0.  0.  0.  0.  0.  0.  0.  0.  0.  0.  0.]\n",
      " [ 1.  0.  0.  0.  0.  0.  0.  0.  0.  0.  1.  0.  0.  0.  0.  0.]\n",
      " [ 0.  0.  0.  0.  0.  0.  0.  0.  0.  0.  0.  0.  0.  0.  0.  0.]\n",
      " [ 0.  0.  0.  0.  0.  0. -1.  0. -1.  0.  0.  0.  0.  0.  0.  0.]\n",
      " [ 0.  0.  0.  0.  0. -1.  0.  0.  0. -1.  0.  0.  1.  0.  0.  0.]\n",
      " [ 0.  0.  0.  0. -1.  0.  0.  1.  0.  0.  0.  0.  0.  0.  0.  0.]\n",
      " [ 0.  0.  0.  0.  0.  0.  0.  0.  0.  0.  0.  0.  0.  0.  0.  0.]\n",
      " [ 0.  0.  0.  0.  1.  0.  0.  0.  0.  0.  0.  0.  0.  0.  0.  0.]]\n",
      "240 8 8 16 256\n"
     ]
    }
   ],
   "source": [
    "# check setup\n",
    "\n",
    "Grid = setUpGrid(nC,nV,nVu)\n",
    "print (Grid)\n",
    "\n",
    "Se = 0\n",
    "Su = 0\n",
    "Sr = 0\n",
    "\n",
    "for i in range(nC):\n",
    "    for j in range(nC):\n",
    "        if (Grid[i,j] == 0):  Se += 1\n",
    "        if (Grid[i,j] == -1): Su += 1\n",
    "        if (Grid[i,j] == 1):  Sr += 1\n",
    "            \n",
    "assert (Su == nVu)\n",
    "assert (Su == Sr)\n",
    "assert (Su+Sr == nV)\n",
    "assert (Su+Sr+Se == nC**2)\n",
    "\n",
    "print (Se,Su,Sr,Su+Sr,Se+Su+Sr)\n",
    "            "
   ]
  },
  {
   "cell_type": "code",
   "execution_count": 8,
   "metadata": {},
   "outputs": [],
   "source": [
    "# for t in range(5):\n",
    "#     oldGrid = Grid.copy()\n",
    "#     Grid,mU,mR = Move(Grid,nC,t)\n",
    "#     print (t,mU,mR)\n",
    "#     print (Grid)"
   ]
  },
  {
   "cell_type": "code",
   "execution_count": 9,
   "metadata": {
    "scrolled": true
   },
   "outputs": [],
   "source": [
    "light_gray = np.array([220/256 ,220/256, 220/256, 1])\n",
    "green = np.array([50/256, 200/256, 50/256, 1])\n",
    "red = np.array([255/256, 90/256, 90/256, 1])\n",
    "\n",
    "newColors = np.zeros((3,4))\n",
    "newColors[0,:] = red\n",
    "newColors[1,:] = light_gray\n",
    "newColors[2,:] = green\n",
    "\n",
    "Cmap = ListedColormap(newColors)\n"
   ]
  },
  {
   "cell_type": "code",
   "execution_count": 10,
   "metadata": {},
   "outputs": [],
   "source": [
    "N = 3\n",
    "boundary_norm = BoundaryNorm([-1.5, -0.5, 0.5, 1.5],Cmap.N)"
   ]
  },
  {
   "cell_type": "code",
   "execution_count": 11,
   "metadata": {},
   "outputs": [
    {
     "data": {
      "image/png": "[encoded data removed]",
      "text/plain": [
       "<Figure size 432x288 with 1 Axes>"
      ]
     },
     "metadata": {
      "needs_background": "light"
     },
     "output_type": "display_data"
    },
    {
     "data": {
      "text/plain": [
       "<matplotlib.image.AxesImage at 0x17c691d5e48>"
      ]
     },
     "execution_count": 11,
     "metadata": {},
     "output_type": "execute_result"
    },
    {
     "data": {
      "image/png": "[encoded data removed]",
      "text/plain": [
       "<Figure size 432x288 with 1 Axes>"
      ]
     },
     "metadata": {
      "needs_background": "light"
     },
     "output_type": "display_data"
    }
   ],
   "source": [
    "tst=np.zeros((1,3))\n",
    "for i in range(3):\n",
    "    tst[0,i] = i-1  \n",
    "fig, ax = plt.subplots()\n",
    "ax.axis('off')\n",
    "img = ax.imshow(tst, cmap=Cmap) \n",
    "plt.show()\n",
    "\n",
    "plt.imshow(tst, cmap=Cmap, norm=boundary_norm)"
   ]
  },
  {
   "cell_type": "code",
   "execution_count": 12,
   "metadata": {},
   "outputs": [],
   "source": [
    "def Update(frameNum, img, oldGrid, nC):\n",
    "      \n",
    "    newGrid,Mu,Mr = Move(oldGrid,nC,frameNum)       \n",
    "    displayGrid = copy.deepcopy(newGrid)\n",
    "    img.set_data(displayGrid)\n",
    "    oldGrid[:,:] = newGrid[:,:]\n",
    "    return img,              "
   ]
  },
  {
   "cell_type": "code",
   "execution_count": 13,
   "metadata": {
    "scrolled": true
   },
   "outputs": [
    {
     "name": "stdout",
     "output_type": "stream",
     "text": [
      "C:\\Users\\Erik\\Documents\\T2D C c=16^2,v=16 .mp4\n"
     ]
    },
    {
     "data": {
      "text/plain": [
       "<function matplotlib.pyplot.show(close=None, block=None)>"
      ]
     },
     "execution_count": 13,
     "metadata": {},
     "output_type": "execute_result"
    },
    {
     "data": {
      "image/png": "[encoded data removed]",
      "text/plain": [
       "<Figure size 432x288 with 1 Axes>"
      ]
     },
     "metadata": {
      "needs_background": "light"
     },
     "output_type": "display_data"
    }
   ],
   "source": [
    "# set up and run animation\n",
    "\n",
    "oldGrid = Grid\n",
    "fig, ax = plt.subplots()\n",
    "ax.axis('off')\n",
    "\n",
    "img = ax.imshow(oldGrid, cmap=Cmap, interpolation='nearest',norm=boundary_norm)\n",
    "ani = animation.FuncAnimation(fig, Update, fargs=(img, oldGrid, nC),\n",
    "                            frames = nF,\n",
    "                            interval=updateInterval,\n",
    "                            repeat=False)\n",
    "\n",
    "f = r'C:\\Users\\Erik\\Documents\\T2D C c='+str(nC)+'^2,v='+str(nV)+' .mp4' \n",
    "print (f)\n",
    "\n",
    "ani.save(f, writer='ffmpeg',fps=1)\n",
    "\n",
    "plt.show"
   ]
  },
  {
   "cell_type": "code",
   "execution_count": null,
   "metadata": {},
   "outputs": [],
   "source": []
  }
 ],
 "metadata": {
  "anaconda-cloud": {},
  "kernelspec": {
   "display_name": "Python 3",
   "language": "python",
   "name": "python3"
  },
  "language_info": {
   "codemirror_mode": {
    "name": "ipython",
    "version": 3
   },
   "file_extension": ".py",
   "mimetype": "text/x-python",
   "name": "python",
   "nbconvert_exporter": "python",
   "pygments_lexer": "ipython3",
   "version": "3.8.5"
  }
 },
 "nbformat": 4,
 "nbformat_minor": 1
}
